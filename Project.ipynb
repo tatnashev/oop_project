{
  "nbformat": 4,
  "nbformat_minor": 0,
  "metadata": {
    "colab": {
      "provenance": []
    },
    "kernelspec": {
      "name": "python3",
      "display_name": "Python 3"
    },
    "language_info": {
      "name": "python"
    },
    "accelerator": "GPU",
    "gpuClass": "standard"
  },
  "cells": [
    {
      "cell_type": "code",
      "source": [
        "!pip install transformers datasets --quiet"
      ],
      "metadata": {
        "id": "5sKEv-dPiKve"
      },
      "execution_count": 92,
      "outputs": []
    },
    {
      "cell_type": "code",
      "execution_count": 120,
      "metadata": {
        "id": "LOquTiqDeCWt"
      },
      "outputs": [],
      "source": [
        "import pandas as pd \n",
        "import numpy as np \n",
        "import abc\n",
        "import matplotlib.pyplot as plt \n",
        "import seaborn as sns \n",
        "\n",
        "from abc import ABC, abstractmethod\n",
        "from datasets import Dataset, DatasetDict, load_metric\n",
        "from sklearn.model_selection import train_test_split\n",
        "from sklearn.metrics import classification_report\n",
        "from transformers import AutoTokenizer, AutoModelForSequenceClassification, TrainingArguments, Trainer\n",
        "\n",
        "sns.set()"
      ]
    },
    {
      "cell_type": "code",
      "source": [
        "# from google.colab import drive \n",
        "\n",
        "# drive.mount('/content/drive')"
      ],
      "metadata": {
        "id": "R-P_C6_NfSFz"
      },
      "execution_count": 94,
      "outputs": []
    },
    {
      "cell_type": "markdown",
      "source": [
        "## Препроцессинг и EDA"
      ],
      "metadata": {
        "id": "2uVHHca6ywaU"
      }
    },
    {
      "cell_type": "code",
      "source": [
        "df = pd.read_csv('/content/drive/MyDrive/project/train_texts.csv') \n",
        "df.shape"
      ],
      "metadata": {
        "colab": {
          "base_uri": "https://localhost:8080/"
        },
        "id": "WytHUA7UfSA4",
        "outputId": "53571aaa-a0c8-4969-e813-6ec72fa4d8fe"
      },
      "execution_count": 122,
      "outputs": [
        {
          "output_type": "execute_result",
          "data": {
            "text/plain": [
              "(1734, 3)"
            ]
          },
          "metadata": {},
          "execution_count": 122
        }
      ]
    },
    {
      "cell_type": "code",
      "source": [
        "df.head()"
      ],
      "metadata": {
        "colab": {
          "base_uri": "https://localhost:8080/",
          "height": 206
        },
        "id": "3XR-i_Cpf-g6",
        "outputId": "676a7dd0-24d4-4a61-af10-018fa615712b"
      },
      "execution_count": 123,
      "outputs": [
        {
          "output_type": "execute_result",
          "data": {
            "text/plain": [
              "   id                                               text      author\n",
              "0   0  -Бабушка!- вскричала малютка.- Возьми меня с с...  Dostoevsky\n",
              "1   1  Знал ли Скрудж об этом? Разумеется, знал. Да и...  Dostoevsky\n",
              "2   2  -С праздником, дядя, с радостью! Дай вам Бог в...  Dostoevsky\n",
              "3   3  Мы высказали только главную передовую мысль на...  Dostoevsky\n",
              "4   4  I. Отдел литературный. Повести, романы, расска...  Dostoevsky"
            ],
            "text/html": [
              "\n",
              "  <div id=\"df-6666b4d6-5655-476b-9f71-de0151244240\">\n",
              "    <div class=\"colab-df-container\">\n",
              "      <div>\n",
              "<style scoped>\n",
              "    .dataframe tbody tr th:only-of-type {\n",
              "        vertical-align: middle;\n",
              "    }\n",
              "\n",
              "    .dataframe tbody tr th {\n",
              "        vertical-align: top;\n",
              "    }\n",
              "\n",
              "    .dataframe thead th {\n",
              "        text-align: right;\n",
              "    }\n",
              "</style>\n",
              "<table border=\"1\" class=\"dataframe\">\n",
              "  <thead>\n",
              "    <tr style=\"text-align: right;\">\n",
              "      <th></th>\n",
              "      <th>id</th>\n",
              "      <th>text</th>\n",
              "      <th>author</th>\n",
              "    </tr>\n",
              "  </thead>\n",
              "  <tbody>\n",
              "    <tr>\n",
              "      <th>0</th>\n",
              "      <td>0</td>\n",
              "      <td>-Бабушка!- вскричала малютка.- Возьми меня с с...</td>\n",
              "      <td>Dostoevsky</td>\n",
              "    </tr>\n",
              "    <tr>\n",
              "      <th>1</th>\n",
              "      <td>1</td>\n",
              "      <td>Знал ли Скрудж об этом? Разумеется, знал. Да и...</td>\n",
              "      <td>Dostoevsky</td>\n",
              "    </tr>\n",
              "    <tr>\n",
              "      <th>2</th>\n",
              "      <td>2</td>\n",
              "      <td>-С праздником, дядя, с радостью! Дай вам Бог в...</td>\n",
              "      <td>Dostoevsky</td>\n",
              "    </tr>\n",
              "    <tr>\n",
              "      <th>3</th>\n",
              "      <td>3</td>\n",
              "      <td>Мы высказали только главную передовую мысль на...</td>\n",
              "      <td>Dostoevsky</td>\n",
              "    </tr>\n",
              "    <tr>\n",
              "      <th>4</th>\n",
              "      <td>4</td>\n",
              "      <td>I. Отдел литературный. Повести, романы, расска...</td>\n",
              "      <td>Dostoevsky</td>\n",
              "    </tr>\n",
              "  </tbody>\n",
              "</table>\n",
              "</div>\n",
              "      <button class=\"colab-df-convert\" onclick=\"convertToInteractive('df-6666b4d6-5655-476b-9f71-de0151244240')\"\n",
              "              title=\"Convert this dataframe to an interactive table.\"\n",
              "              style=\"display:none;\">\n",
              "        \n",
              "  <svg xmlns=\"http://www.w3.org/2000/svg\" height=\"24px\"viewBox=\"0 0 24 24\"\n",
              "       width=\"24px\">\n",
              "    <path d=\"M0 0h24v24H0V0z\" fill=\"none\"/>\n",
              "    <path d=\"M18.56 5.44l.94 2.06.94-2.06 2.06-.94-2.06-.94-.94-2.06-.94 2.06-2.06.94zm-11 1L8.5 8.5l.94-2.06 2.06-.94-2.06-.94L8.5 2.5l-.94 2.06-2.06.94zm10 10l.94 2.06.94-2.06 2.06-.94-2.06-.94-.94-2.06-.94 2.06-2.06.94z\"/><path d=\"M17.41 7.96l-1.37-1.37c-.4-.4-.92-.59-1.43-.59-.52 0-1.04.2-1.43.59L10.3 9.45l-7.72 7.72c-.78.78-.78 2.05 0 2.83L4 21.41c.39.39.9.59 1.41.59.51 0 1.02-.2 1.41-.59l7.78-7.78 2.81-2.81c.8-.78.8-2.07 0-2.86zM5.41 20L4 18.59l7.72-7.72 1.47 1.35L5.41 20z\"/>\n",
              "  </svg>\n",
              "      </button>\n",
              "      \n",
              "  <style>\n",
              "    .colab-df-container {\n",
              "      display:flex;\n",
              "      flex-wrap:wrap;\n",
              "      gap: 12px;\n",
              "    }\n",
              "\n",
              "    .colab-df-convert {\n",
              "      background-color: #E8F0FE;\n",
              "      border: none;\n",
              "      border-radius: 50%;\n",
              "      cursor: pointer;\n",
              "      display: none;\n",
              "      fill: #1967D2;\n",
              "      height: 32px;\n",
              "      padding: 0 0 0 0;\n",
              "      width: 32px;\n",
              "    }\n",
              "\n",
              "    .colab-df-convert:hover {\n",
              "      background-color: #E2EBFA;\n",
              "      box-shadow: 0px 1px 2px rgba(60, 64, 67, 0.3), 0px 1px 3px 1px rgba(60, 64, 67, 0.15);\n",
              "      fill: #174EA6;\n",
              "    }\n",
              "\n",
              "    [theme=dark] .colab-df-convert {\n",
              "      background-color: #3B4455;\n",
              "      fill: #D2E3FC;\n",
              "    }\n",
              "\n",
              "    [theme=dark] .colab-df-convert:hover {\n",
              "      background-color: #434B5C;\n",
              "      box-shadow: 0px 1px 3px 1px rgba(0, 0, 0, 0.15);\n",
              "      filter: drop-shadow(0px 1px 2px rgba(0, 0, 0, 0.3));\n",
              "      fill: #FFFFFF;\n",
              "    }\n",
              "  </style>\n",
              "\n",
              "      <script>\n",
              "        const buttonEl =\n",
              "          document.querySelector('#df-6666b4d6-5655-476b-9f71-de0151244240 button.colab-df-convert');\n",
              "        buttonEl.style.display =\n",
              "          google.colab.kernel.accessAllowed ? 'block' : 'none';\n",
              "\n",
              "        async function convertToInteractive(key) {\n",
              "          const element = document.querySelector('#df-6666b4d6-5655-476b-9f71-de0151244240');\n",
              "          const dataTable =\n",
              "            await google.colab.kernel.invokeFunction('convertToInteractive',\n",
              "                                                     [key], {});\n",
              "          if (!dataTable) return;\n",
              "\n",
              "          const docLinkHtml = 'Like what you see? Visit the ' +\n",
              "            '<a target=\"_blank\" href=https://colab.research.google.com/notebooks/data_table.ipynb>data table notebook</a>'\n",
              "            + ' to learn more about interactive tables.';\n",
              "          element.innerHTML = '';\n",
              "          dataTable['output_type'] = 'display_data';\n",
              "          await google.colab.output.renderOutput(dataTable, element);\n",
              "          const docLink = document.createElement('div');\n",
              "          docLink.innerHTML = docLinkHtml;\n",
              "          element.appendChild(docLink);\n",
              "        }\n",
              "      </script>\n",
              "    </div>\n",
              "  </div>\n",
              "  "
            ]
          },
          "metadata": {},
          "execution_count": 123
        }
      ]
    },
    {
      "cell_type": "code",
      "source": [
        "plt.figure(figsize=(15, 7))\n",
        "sns.countplot(df['author'])"
      ],
      "metadata": {
        "colab": {
          "base_uri": "https://localhost:8080/",
          "height": 522
        },
        "id": "1E0-s720Tyj2",
        "outputId": "6fb76106-cf4a-48a4-ede5-515d002a2e2e"
      },
      "execution_count": 124,
      "outputs": [
        {
          "output_type": "stream",
          "name": "stderr",
          "text": [
            "/usr/local/lib/python3.8/dist-packages/seaborn/_decorators.py:36: FutureWarning: Pass the following variable as a keyword arg: x. From version 0.12, the only valid positional argument will be `data`, and passing other arguments without an explicit keyword will result in an error or misinterpretation.\n",
            "  warnings.warn(\n"
          ]
        },
        {
          "output_type": "execute_result",
          "data": {
            "text/plain": [
              "<matplotlib.axes._subplots.AxesSubplot at 0x7f08a6dcb490>"
            ]
          },
          "metadata": {},
          "execution_count": 124
        },
        {
          "output_type": "display_data",
          "data": {
            "text/plain": [
              "<Figure size 1080x504 with 1 Axes>"
            ],
            "image/png": "[encoded data removed]"
          },
          "metadata": {}
        }
      ]
    },
    {
      "cell_type": "code",
      "source": [
        "from sklearn.preprocessing import LabelEncoder \n",
        "\n",
        "le = LabelEncoder() \n",
        "le.fit(df['author']) \n",
        "label2id = dict(zip(list(map(str, le.classes_)), list(map(int, le.transform(le.classes_))))) \n",
        "id2label = {value: key for key, value in label2id.items()}\n",
        "\n",
        "label2id"
      ],
      "metadata": {
        "colab": {
          "base_uri": "https://localhost:8080/"
        },
        "id": "mMkAY37ZTSqz",
        "outputId": "c3adb444-a1c4-4cb6-9fc5-14a6867315e2"
      },
      "execution_count": 98,
      "outputs": [
        {
          "output_type": "execute_result",
          "data": {
            "text/plain": [
              "{'Akunin': 0,\n",
              " 'Bulychev': 1,\n",
              " 'Chehov': 2,\n",
              " 'Dostoevsky': 3,\n",
              " 'Gogol': 4,\n",
              " 'King': 5,\n",
              " 'Pratchett': 6,\n",
              " 'Remark': 7}"
            ]
          },
          "metadata": {},
          "execution_count": 98
        }
      ]
    },
    {
      "cell_type": "code",
      "source": [
        "df['author'] = LabelEncoder().fit_transform(df['author'].values) "
      ],
      "metadata": {
        "id": "bX8m4VVZWzxv"
      },
      "execution_count": 99,
      "outputs": []
    },
    {
      "cell_type": "code",
      "source": [
        "df.head()"
      ],
      "metadata": {
        "colab": {
          "base_uri": "https://localhost:8080/",
          "height": 206
        },
        "id": "mKId9ymfTn4F",
        "outputId": "632bc6b0-2406-4c2c-a6b6-6a4f331f4dc9"
      },
      "execution_count": 100,
      "outputs": [
        {
          "output_type": "execute_result",
          "data": {
            "text/plain": [
              "   id                                               text  author\n",
              "0   0  -Бабушка!- вскричала малютка.- Возьми меня с с...       3\n",
              "1   1  Знал ли Скрудж об этом? Разумеется, знал. Да и...       3\n",
              "2   2  -С праздником, дядя, с радостью! Дай вам Бог в...       3\n",
              "3   3  Мы высказали только главную передовую мысль на...       3\n",
              "4   4  I. Отдел литературный. Повести, романы, расска...       3"
            ],
            "text/html": [
              "\n",
              "  <div id=\"df-6b1df67f-38b2-476e-94b8-2f590c8aaa8c\">\n",
              "    <div class=\"colab-df-container\">\n",
              "      <div>\n",
              "<style scoped>\n",
              "    .dataframe tbody tr th:only-of-type {\n",
              "        vertical-align: middle;\n",
              "    }\n",
              "\n",
              "    .dataframe tbody tr th {\n",
              "        vertical-align: top;\n",
              "    }\n",
              "\n",
              "    .dataframe thead th {\n",
              "        text-align: right;\n",
              "    }\n",
              "</style>\n",
              "<table border=\"1\" class=\"dataframe\">\n",
              "  <thead>\n",
              "    <tr style=\"text-align: right;\">\n",
              "      <th></th>\n",
              "      <th>id</th>\n",
              "      <th>text</th>\n",
              "      <th>author</th>\n",
              "    </tr>\n",
              "  </thead>\n",
              "  <tbody>\n",
              "    <tr>\n",
              "      <th>0</th>\n",
              "      <td>0</td>\n",
              "      <td>-Бабушка!- вскричала малютка.- Возьми меня с с...</td>\n",
              "      <td>3</td>\n",
              "    </tr>\n",
              "    <tr>\n",
              "      <th>1</th>\n",
              "      <td>1</td>\n",
              "      <td>Знал ли Скрудж об этом? Разумеется, знал. Да и...</td>\n",
              "      <td>3</td>\n",
              "    </tr>\n",
              "    <tr>\n",
              "      <th>2</th>\n",
              "      <td>2</td>\n",
              "      <td>-С праздником, дядя, с радостью! Дай вам Бог в...</td>\n",
              "      <td>3</td>\n",
              "    </tr>\n",
              "    <tr>\n",
              "      <th>3</th>\n",
              "      <td>3</td>\n",
              "      <td>Мы высказали только главную передовую мысль на...</td>\n",
              "      <td>3</td>\n",
              "    </tr>\n",
              "    <tr>\n",
              "      <th>4</th>\n",
              "      <td>4</td>\n",
              "      <td>I. Отдел литературный. Повести, романы, расска...</td>\n",
              "      <td>3</td>\n",
              "    </tr>\n",
              "  </tbody>\n",
              "</table>\n",
              "</div>\n",
              "      <button class=\"colab-df-convert\" onclick=\"convertToInteractive('df-6b1df67f-38b2-476e-94b8-2f590c8aaa8c')\"\n",
              "              title=\"Convert this dataframe to an interactive table.\"\n",
              "              style=\"display:none;\">\n",
              "        \n",
              "  <svg xmlns=\"http://www.w3.org/2000/svg\" height=\"24px\"viewBox=\"0 0 24 24\"\n",
              "       width=\"24px\">\n",
              "    <path d=\"M0 0h24v24H0V0z\" fill=\"none\"/>\n",
              "    <path d=\"M18.56 5.44l.94 2.06.94-2.06 2.06-.94-2.06-.94-.94-2.06-.94 2.06-2.06.94zm-11 1L8.5 8.5l.94-2.06 2.06-.94-2.06-.94L8.5 2.5l-.94 2.06-2.06.94zm10 10l.94 2.06.94-2.06 2.06-.94-2.06-.94-.94-2.06-.94 2.06-2.06.94z\"/><path d=\"M17.41 7.96l-1.37-1.37c-.4-.4-.92-.59-1.43-.59-.52 0-1.04.2-1.43.59L10.3 9.45l-7.72 7.72c-.78.78-.78 2.05 0 2.83L4 21.41c.39.39.9.59 1.41.59.51 0 1.02-.2 1.41-.59l7.78-7.78 2.81-2.81c.8-.78.8-2.07 0-2.86zM5.41 20L4 18.59l7.72-7.72 1.47 1.35L5.41 20z\"/>\n",
              "  </svg>\n",
              "      </button>\n",
              "      \n",
              "  <style>\n",
              "    .colab-df-container {\n",
              "      display:flex;\n",
              "      flex-wrap:wrap;\n",
              "      gap: 12px;\n",
              "    }\n",
              "\n",
              "    .colab-df-convert {\n",
              "      background-color: #E8F0FE;\n",
              "      border: none;\n",
              "      border-radius: 50%;\n",
              "      cursor: pointer;\n",
              "      display: none;\n",
              "      fill: #1967D2;\n",
              "      height: 32px;\n",
              "      padding: 0 0 0 0;\n",
              "      width: 32px;\n",
              "    }\n",
              "\n",
              "    .colab-df-convert:hover {\n",
              "      background-color: #E2EBFA;\n",
              "      box-shadow: 0px 1px 2px rgba(60, 64, 67, 0.3), 0px 1px 3px 1px rgba(60, 64, 67, 0.15);\n",
              "      fill: #174EA6;\n",
              "    }\n",
              "\n",
              "    [theme=dark] .colab-df-convert {\n",
              "      background-color: #3B4455;\n",
              "      fill: #D2E3FC;\n",
              "    }\n",
              "\n",
              "    [theme=dark] .colab-df-convert:hover {\n",
              "      background-color: #434B5C;\n",
              "      box-shadow: 0px 1px 3px 1px rgba(0, 0, 0, 0.15);\n",
              "      filter: drop-shadow(0px 1px 2px rgba(0, 0, 0, 0.3));\n",
              "      fill: #FFFFFF;\n",
              "    }\n",
              "  </style>\n",
              "\n",
              "      <script>\n",
              "        const buttonEl =\n",
              "          document.querySelector('#df-6b1df67f-38b2-476e-94b8-2f590c8aaa8c button.colab-df-convert');\n",
              "        buttonEl.style.display =\n",
              "          google.colab.kernel.accessAllowed ? 'block' : 'none';\n",
              "\n",
              "        async function convertToInteractive(key) {\n",
              "          const element = document.querySelector('#df-6b1df67f-38b2-476e-94b8-2f590c8aaa8c');\n",
              "          const dataTable =\n",
              "            await google.colab.kernel.invokeFunction('convertToInteractive',\n",
              "                                                     [key], {});\n",
              "          if (!dataTable) return;\n",
              "\n",
              "          const docLinkHtml = 'Like what you see? Visit the ' +\n",
              "            '<a target=\"_blank\" href=https://colab.research.google.com/notebooks/data_table.ipynb>data table notebook</a>'\n",
              "            + ' to learn more about interactive tables.';\n",
              "          element.innerHTML = '';\n",
              "          dataTable['output_type'] = 'display_data';\n",
              "          await google.colab.output.renderOutput(dataTable, element);\n",
              "          const docLink = document.createElement('div');\n",
              "          docLink.innerHTML = docLinkHtml;\n",
              "          element.appendChild(docLink);\n",
              "        }\n",
              "      </script>\n",
              "    </div>\n",
              "  </div>\n",
              "  "
            ]
          },
          "metadata": {},
          "execution_count": 100
        }
      ]
    },
    {
      "cell_type": "code",
      "source": [
        "df_train, df_test = train_test_split(df, test_size=0.3, random_state=42, stratify=df['author']) "
      ],
      "metadata": {
        "id": "GGyAZHaHfR2-"
      },
      "execution_count": 101,
      "outputs": []
    },
    {
      "cell_type": "code",
      "source": [
        "model = \"DeepPavlov/rubert-base-cased\""
      ],
      "metadata": {
        "id": "lcwDrmZGq4sk"
      },
      "execution_count": 102,
      "outputs": []
    },
    {
      "cell_type": "markdown",
      "source": [
        "## Классы препроцессинга "
      ],
      "metadata": {
        "id": "iHdGONAtk6rB"
      }
    },
    {
      "cell_type": "code",
      "source": [
        "class AbstractPreprocessor(ABC): \n",
        "    @abstractmethod\n",
        "    def preprocess(self, df): \n",
        "        raise NotImplementedError"
      ],
      "metadata": {
        "id": "-TXUq30Ek88p"
      },
      "execution_count": 103,
      "outputs": []
    },
    {
      "cell_type": "code",
      "source": [
        "from sklearn.feature_extraction.text import TfidfVectorizer\n",
        "\n",
        "class SklearnPreprocessor(AbstractPreprocessor): \n",
        "    def __init__(self): \n",
        "        self.preprocessor = TfidfVectorizer().fit(df['text']) \n",
        "\n",
        "\n",
        "    def preprocess(self, df): \n",
        "        return self.preprocessor.transform(df['text']), df['author'].values"
      ],
      "metadata": {
        "id": "LIUnhyAyk84o"
      },
      "execution_count": 104,
      "outputs": []
    },
    {
      "cell_type": "code",
      "source": [
        "class HFPreprocessor(AbstractPreprocessor): \n",
        "    def __init__(self, model): \n",
        "        self.tokenizer = AutoTokenizer.from_pretrained(model) \n",
        "\n",
        "\n",
        "    def preprocess(self, df):\n",
        "        def preprocess_function(texts): \n",
        "            return self.tokenizer(texts['text'], truncation=True)\n",
        "\n",
        "        data = Dataset.from_pandas(df[['text', 'author']])\n",
        "        _ = data.map(preprocess_function, batched=True)\n",
        "        return data['text'], data['author']"
      ],
      "metadata": {
        "id": "HGuItT-_k81n"
      },
      "execution_count": 107,
      "outputs": []
    },
    {
      "cell_type": "markdown",
      "source": [
        "## Классы моделей"
      ],
      "metadata": {
        "id": "pVBQgDKXgc6x"
      }
    },
    {
      "cell_type": "code",
      "source": [
        "from sklearn.linear_model import LogisticRegression"
      ],
      "metadata": {
        "id": "8PStix7sRsLh"
      },
      "execution_count": 109,
      "outputs": []
    },
    {
      "cell_type": "code",
      "source": [
        "class AbstractModel(ABC): \n",
        "    @abstractmethod \n",
        "    def train(self, X, y): \n",
        "        raise NotImplementedError\n",
        "\n",
        "\n",
        "    @abstractmethod\n",
        "    def predict(self, X): \n",
        "        raise NotImplementedError"
      ],
      "metadata": {
        "id": "1wO3qF5LgYaw"
      },
      "execution_count": 110,
      "outputs": []
    },
    {
      "cell_type": "code",
      "source": [
        "class SklearnModel(AbstractModel): \n",
        "    def __init__(self, model): \n",
        "        self.model = model \n",
        "\n",
        "\n",
        "    def train(self, X, y): \n",
        "        self.model.fit(X, y) \n",
        "\n",
        "        \n",
        "    def predict(self, X): \n",
        "        return self.model.predict(X) "
      ],
      "metadata": {
        "id": "gyQ6VExGhQz9"
      },
      "execution_count": 111,
      "outputs": []
    },
    {
      "cell_type": "code",
      "source": [
        "from transformers import default_data_collator\n",
        "\n",
        "class HFModel(AbstractModel): \n",
        "    def __init__(self, model, num_labels, id2label, label2id):\n",
        "        self.model = AutoModelForSequenceClassification.from_pretrained(\n",
        "            model, num_labels=num_labels, id2label=id2label, label2id=label2id\n",
        "        )\n",
        "        self.tokenizer = AutoTokenizer.from_pretrained(model)\n",
        "\n",
        "\n",
        "    def train(self, df_train, df_test, args):\n",
        "        self.trainer = Trainer(\n",
        "            model=self.model, \n",
        "            args=args, \n",
        "            train_dataset=df_train, \n",
        "            tokenizer=self.tokenizer, \n",
        "            data_collator=default_data_collator\n",
        "        )\n",
        "\n",
        "        self.trainer.train() \n",
        "\n",
        "\n",
        "    def predict(self, X): \n",
        "        return self.trainer.predict(X)"
      ],
      "metadata": {
        "id": "UlNvqAkkh-Xk"
      },
      "execution_count": 112,
      "outputs": []
    },
    {
      "cell_type": "markdown",
      "source": [
        "## Logger"
      ],
      "metadata": {
        "id": "ftVxT505tVdC"
      }
    },
    {
      "cell_type": "code",
      "source": [
        "class Logger(): \n",
        "    def __init__(self, y_pred, y_true): \n",
        "        self.report_to_print = classification_report(y_true, y_pred)\n",
        "\n",
        "        report = classification_report(y_true, y_pred, output_dict=True) \n",
        "        x = pd.DataFrame(report).transpose().reset_index() \n",
        "\n",
        "        x.columns = ['class', 'precision', 'recall', 'f1-score', 'support'] \n",
        "        x['class'] = ['Akunin', 'Bulychev', 'Chehov', 'Dostoevsky', 'Gogol', 'King', 'Pratchett', 'Remark', 'accuracy', 'macro avg', 'weighted avg'] \n",
        "\n",
        "        self.report = x \n",
        "\n",
        "\n",
        "    def print_report(self): \n",
        "        print(self.report_to_print)\n",
        "\n",
        "    \n",
        "    def __getitem__(self, key): \n",
        "        return self.report[self.report['class'] == key]\n",
        "\n",
        "\n",
        "    def overall_f1_score(self): \n",
        "        return self.report[self.report['class'] == 'macro avg']['f1-score'].values[0]\n",
        "\n",
        "\n",
        "    def overall_precision(self): \n",
        "        return self.report[self.report['class'] == 'macro avg']['precision'].values[0]\n",
        "\n",
        "\n",
        "    def overall_recall(self): \n",
        "        return self.report[self.report['class'] == 'macro avg']['recall'].values[0]"
      ],
      "metadata": {
        "id": "nTSFNXcqtWmx"
      },
      "execution_count": 113,
      "outputs": []
    },
    {
      "cell_type": "markdown",
      "source": [
        "## Обучаем логрег"
      ],
      "metadata": {
        "id": "sADYf2X3tDsS"
      }
    },
    {
      "cell_type": "code",
      "source": [
        "sklearn_prep = SklearnPreprocessor() \n",
        "\n",
        "X_train, y_train = sklearn_prep.preprocess(df_train)\n",
        "X_test, y_test = sklearn_prep.preprocess(df_test) "
      ],
      "metadata": {
        "id": "vi6Fpr9StDcS"
      },
      "execution_count": 114,
      "outputs": []
    },
    {
      "cell_type": "code",
      "source": [
        "logreg = SklearnModel(LogisticRegression(random_state=42, C=0.01, class_weight='balanced')) \n",
        "logreg.train(X_train, y_train) "
      ],
      "metadata": {
        "id": "nUFZUBJIRlx-"
      },
      "execution_count": 115,
      "outputs": []
    },
    {
      "cell_type": "code",
      "source": [
        "y_pred = logreg.predict(X_test)"
      ],
      "metadata": {
        "id": "79IYOungR0Gy"
      },
      "execution_count": 116,
      "outputs": []
    },
    {
      "cell_type": "markdown",
      "source": [
        "Проверяем, что логгер работает "
      ],
      "metadata": {
        "id": "z9Q3aTm9wxVh"
      }
    },
    {
      "cell_type": "code",
      "source": [
        "logreg_logger = Logger(y_pred, y_test) \n",
        "logreg_logger.print_report()"
      ],
      "metadata": {
        "colab": {
          "base_uri": "https://localhost:8080/"
        },
        "id": "YyHrc7dsvC6d",
        "outputId": "657d8a8b-2295-4f01-882b-204628b51552"
      },
      "execution_count": 117,
      "outputs": [
        {
          "output_type": "stream",
          "name": "stdout",
          "text": [
            "              precision    recall  f1-score   support\n",
            "\n",
            "           0       0.92      0.93      0.93       144\n",
            "           1       0.93      0.92      0.92        83\n",
            "           2       0.80      0.64      0.71        55\n",
            "           3       0.44      0.67      0.53        21\n",
            "           4       0.68      0.50      0.58        30\n",
            "           5       0.90      0.92      0.91        91\n",
            "           6       0.87      0.93      0.90        80\n",
            "           7       0.89      0.94      0.91        17\n",
            "\n",
            "    accuracy                           0.86       521\n",
            "   macro avg       0.80      0.80      0.80       521\n",
            "weighted avg       0.86      0.86      0.86       521\n",
            "\n"
          ]
        }
      ]
    },
    {
      "cell_type": "code",
      "source": [
        "logreg_logger['Akunin']"
      ],
      "metadata": {
        "colab": {
          "base_uri": "https://localhost:8080/",
          "height": 81
        },
        "id": "Ll4tWFK8v1SZ",
        "outputId": "a7bacf68-8fd7-4e1c-c017-ab63e3d79a7e"
      },
      "execution_count": 118,
      "outputs": [
        {
          "output_type": "execute_result",
          "data": {
            "text/plain": [
              "    class  precision    recall  f1-score  support\n",
              "0  Akunin   0.924138  0.930556  0.927336    144.0"
            ],
            "text/html": [
              "\n",
              "  <div id=\"df-bf5553f8-18b3-4556-b110-7a5ce0ec80e9\">\n",
              "    <div class=\"colab-df-container\">\n",
              "      <div>\n",
              "<style scoped>\n",
              "    .dataframe tbody tr th:only-of-type {\n",
              "        vertical-align: middle;\n",
              "    }\n",
              "\n",
              "    .dataframe tbody tr th {\n",
              "        vertical-align: top;\n",
              "    }\n",
              "\n",
              "    .dataframe thead th {\n",
              "        text-align: right;\n",
              "    }\n",
              "</style>\n",
              "<table border=\"1\" class=\"dataframe\">\n",
              "  <thead>\n",
              "    <tr style=\"text-align: right;\">\n",
              "      <th></th>\n",
              "      <th>class</th>\n",
              "      <th>precision</th>\n",
              "      <th>recall</th>\n",
              "      <th>f1-score</th>\n",
              "      <th>support</th>\n",
              "    </tr>\n",
              "  </thead>\n",
              "  <tbody>\n",
              "    <tr>\n",
              "      <th>0</th>\n",
              "      <td>Akunin</td>\n",
              "      <td>0.924138</td>\n",
              "      <td>0.930556</td>\n",
              "      <td>0.927336</td>\n",
              "      <td>144.0</td>\n",
              "    </tr>\n",
              "  </tbody>\n",
              "</table>\n",
              "</div>\n",
              "      <button class=\"colab-df-convert\" onclick=\"convertToInteractive('df-bf5553f8-18b3-4556-b110-7a5ce0ec80e9')\"\n",
              "              title=\"Convert this dataframe to an interactive table.\"\n",
              "              style=\"display:none;\">\n",
              "        \n",
              "  <svg xmlns=\"http://www.w3.org/2000/svg\" height=\"24px\"viewBox=\"0 0 24 24\"\n",
              "       width=\"24px\">\n",
              "    <path d=\"M0 0h24v24H0V0z\" fill=\"none\"/>\n",
              "    <path d=\"M18.56 5.44l.94 2.06.94-2.06 2.06-.94-2.06-.94-.94-2.06-.94 2.06-2.06.94zm-11 1L8.5 8.5l.94-2.06 2.06-.94-2.06-.94L8.5 2.5l-.94 2.06-2.06.94zm10 10l.94 2.06.94-2.06 2.06-.94-2.06-.94-.94-2.06-.94 2.06-2.06.94z\"/><path d=\"M17.41 7.96l-1.37-1.37c-.4-.4-.92-.59-1.43-.59-.52 0-1.04.2-1.43.59L10.3 9.45l-7.72 7.72c-.78.78-.78 2.05 0 2.83L4 21.41c.39.39.9.59 1.41.59.51 0 1.02-.2 1.41-.59l7.78-7.78 2.81-2.81c.8-.78.8-2.07 0-2.86zM5.41 20L4 18.59l7.72-7.72 1.47 1.35L5.41 20z\"/>\n",
              "  </svg>\n",
              "      </button>\n",
              "      \n",
              "  <style>\n",
              "    .colab-df-container {\n",
              "      display:flex;\n",
              "      flex-wrap:wrap;\n",
              "      gap: 12px;\n",
              "    }\n",
              "\n",
              "    .colab-df-convert {\n",
              "      background-color: #E8F0FE;\n",
              "      border: none;\n",
              "      border-radius: 50%;\n",
              "      cursor: pointer;\n",
              "      display: none;\n",
              "      fill: #1967D2;\n",
              "      height: 32px;\n",
              "      padding: 0 0 0 0;\n",
              "      width: 32px;\n",
              "    }\n",
              "\n",
              "    .colab-df-convert:hover {\n",
              "      background-color: #E2EBFA;\n",
              "      box-shadow: 0px 1px 2px rgba(60, 64, 67, 0.3), 0px 1px 3px 1px rgba(60, 64, 67, 0.15);\n",
              "      fill: #174EA6;\n",
              "    }\n",
              "\n",
              "    [theme=dark] .colab-df-convert {\n",
              "      background-color: #3B4455;\n",
              "      fill: #D2E3FC;\n",
              "    }\n",
              "\n",
              "    [theme=dark] .colab-df-convert:hover {\n",
              "      background-color: #434B5C;\n",
              "      box-shadow: 0px 1px 3px 1px rgba(0, 0, 0, 0.15);\n",
              "      filter: drop-shadow(0px 1px 2px rgba(0, 0, 0, 0.3));\n",
              "      fill: #FFFFFF;\n",
              "    }\n",
              "  </style>\n",
              "\n",
              "      <script>\n",
              "        const buttonEl =\n",
              "          document.querySelector('#df-bf5553f8-18b3-4556-b110-7a5ce0ec80e9 button.colab-df-convert');\n",
              "        buttonEl.style.display =\n",
              "          google.colab.kernel.accessAllowed ? 'block' : 'none';\n",
              "\n",
              "        async function convertToInteractive(key) {\n",
              "          const element = document.querySelector('#df-bf5553f8-18b3-4556-b110-7a5ce0ec80e9');\n",
              "          const dataTable =\n",
              "            await google.colab.kernel.invokeFunction('convertToInteractive',\n",
              "                                                     [key], {});\n",
              "          if (!dataTable) return;\n",
              "\n",
              "          const docLinkHtml = 'Like what you see? Visit the ' +\n",
              "            '<a target=\"_blank\" href=https://colab.research.google.com/notebooks/data_table.ipynb>data table notebook</a>'\n",
              "            + ' to learn more about interactive tables.';\n",
              "          element.innerHTML = '';\n",
              "          dataTable['output_type'] = 'display_data';\n",
              "          await google.colab.output.renderOutput(dataTable, element);\n",
              "          const docLink = document.createElement('div');\n",
              "          docLink.innerHTML = docLinkHtml;\n",
              "          element.appendChild(docLink);\n",
              "        }\n",
              "      </script>\n",
              "    </div>\n",
              "  </div>\n",
              "  "
            ]
          },
          "metadata": {},
          "execution_count": 118
        }
      ]
    },
    {
      "cell_type": "code",
      "source": [
        "logreg_logger.overall_f1_score()"
      ],
      "metadata": {
        "colab": {
          "base_uri": "https://localhost:8080/"
        },
        "id": "0iPv0RRAtsCX",
        "outputId": "f9934e05-d52e-49c3-b580-00068c4ab08d"
      },
      "execution_count": 119,
      "outputs": [
        {
          "output_type": "execute_result",
          "data": {
            "text/plain": [
              "0.7981427902066309"
            ]
          },
          "metadata": {},
          "execution_count": 119
        }
      ]
    }
  ]
}